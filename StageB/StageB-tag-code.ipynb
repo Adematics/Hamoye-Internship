{
 "cells": [
  {
   "cell_type": "code",
   "execution_count": 139,
   "id": "7b392a82-aac0-459f-a05e-09b1b63b204c",
   "metadata": {},
   "outputs": [],
   "source": [
    "import pandas as pd\n",
    "import numpy as np \n",
    "import matplotlib.pyplot as plt\n",
    "import seaborn as sns\n",
    "from sklearn.linear_model import LinearRegression\n",
    "from sklearn.metrics import r2_score\n",
    "from sklearn.model_selection import train_test_split\n",
    "from sklearn.preprocessing import MinMaxScaler\n",
    "from sklearn.metrics import mean_absolute_error, mean_squared_error, r2_score"
   ]
  },
  {
   "cell_type": "code",
   "execution_count": 140,
   "id": "c63aecce-a8b8-452f-9dc8-b161b9a08a55",
   "metadata": {},
   "outputs": [],
   "source": [
    "df = pd.read_csv('energydata_complete.csv')\n",
    "x = df['T2'].reset_index()\n",
    "y = df['T6'].reset_index()\n",
    "merge = pd.merge(x, y)"
   ]
  },
  {
   "cell_type": "markdown",
   "id": "1ce0bf01",
   "metadata": {},
   "source": [
    "### Q12"
   ]
  },
  {
   "cell_type": "code",
   "execution_count": 141,
   "id": "1bd17f75-dcdd-4597-be24-fbf4f862ef64",
   "metadata": {},
   "outputs": [
    {
     "name": "stdout",
     "output_type": "stream",
     "text": [
      "R2 Score:  0.64\n"
     ]
    }
   ],
   "source": [
    "\n",
    "\n",
    "x = merge['T2'].to_numpy().reshape(-1, 1)\n",
    "y = merge['T6']\n",
    "\n",
    "\n",
    "\n",
    "x_train, x_test, y_train, y_test = train_test_split(x, y, test_size=0.2, random_state=42)\n",
    "\n",
    "model = LinearRegression()\n",
    "\n",
    "model.fit(x_train, y_train)\n",
    "y_pred = model.predict(x_test)\n",
    "r2 = r2_score( y_test,y_pred )\n",
    "print('R2 Score: ', round(r2,2))"
   ]
  },
  {
   "cell_type": "markdown",
   "id": "f3945d0d",
   "metadata": {},
   "source": [
    "### Q13"
   ]
  },
  {
   "cell_type": "code",
   "execution_count": 142,
   "id": "b2821fda-1351-441d-a924-0e17f01c15dc",
   "metadata": {},
   "outputs": [
    {
     "name": "stdout",
     "output_type": "stream",
     "text": [
      "Mean Absolute Error:  0.05\n"
     ]
    }
   ],
   "source": [
    "\n",
    "columns = ['date', 'lights']\n",
    "df.drop(columns = columns, axis = 1, inplace = True)\n",
    "\n",
    "\n",
    "\n",
    "scaler = MinMaxScaler()\n",
    "features = df.drop(columns=['Appliances'])\n",
    "target = df['Appliances'].to_numpy()\n",
    "target = target.reshape(-1,1)\n",
    "\n",
    "\n",
    "x_features = pd.DataFrame(scaler.fit_transform(features))\n",
    "x_target = pd.DataFrame(scaler.fit_transform(target))\n",
    "\n",
    "\n",
    "x_train_1, x_test_1, y_train_1, y_test_1 = train_test_split(x_features,x_target, test_size=0.3, random_state=42)\n",
    "\n",
    "linear_model = LinearRegression()\n",
    "linear_model.fit(x_train_1,y_train_1)\n",
    "\n",
    "\n",
    "prediction = linear_model.predict(x_test_1)\n",
    "\n",
    "mean_err = mean_absolute_error(y_test_1, prediction)\n",
    "\n",
    "print('Mean Absolute Error: ', round(mean_err, 2))\n",
    "\n"
   ]
  },
  {
   "cell_type": "markdown",
   "id": "2bd97be5",
   "metadata": {},
   "source": [
    "### Q14"
   ]
  },
  {
   "cell_type": "code",
   "execution_count": 143,
   "id": "045c2481",
   "metadata": {},
   "outputs": [
    {
     "name": "stdout",
     "output_type": "stream",
     "text": [
      "Residual Sum of Squares:  0    45.35\n",
      "dtype: float64\n"
     ]
    }
   ],
   "source": [
    "residual_sum = np.sum(np.square(y_test_1 - prediction))\n",
    "\n",
    "print('Residual Sum of Squares: ', round(residual_sum, 2))"
   ]
  },
  {
   "cell_type": "markdown",
   "id": "44c4c4ea",
   "metadata": {},
   "source": [
    "### Q15"
   ]
  },
  {
   "cell_type": "code",
   "execution_count": 144,
   "id": "db09c3bb",
   "metadata": {},
   "outputs": [
    {
     "name": "stdout",
     "output_type": "stream",
     "text": [
      "Mean Squared Error:  0.088\n"
     ]
    }
   ],
   "source": [
    "root_mean = np.sqrt(mean_squared_error(y_test_1, pred))\n",
    "\n",
    "print('Mean Squared Error: ', round(root_mean, 3))"
   ]
  },
  {
   "cell_type": "markdown",
   "id": "b50e5418",
   "metadata": {},
   "source": [
    "### Q16"
   ]
  },
  {
   "cell_type": "code",
   "execution_count": 145,
   "id": "d4a168da",
   "metadata": {},
   "outputs": [
    {
     "name": "stdout",
     "output_type": "stream",
     "text": [
      "Coefficient of Determinaton:  0.15\n"
     ]
    }
   ],
   "source": [
    "r2 = r2_score(y_test_1, prediction)\n",
    "\n",
    "print('Coefficient of Determinaton: ', round(r2, 2))"
   ]
  },
  {
   "cell_type": "markdown",
   "id": "fafadbe5",
   "metadata": {},
   "source": [
    "### Q18"
   ]
  },
  {
   "cell_type": "code",
   "execution_count": 146,
   "id": "775063e2",
   "metadata": {},
   "outputs": [
    {
     "name": "stdout",
     "output_type": "stream",
     "text": [
      "Root Mean Squared Error:  0.088\n"
     ]
    }
   ],
   "source": [
    "\n",
    "\n",
    "from sklearn.linear_model import Ridge\n",
    "\n",
    "ridge_model = Ridge(alpha = 0.4)\n",
    "ridge_model.fit(x_train_1, y_train_1)\n",
    "ridge_prediction = ridge_model.predict(x_test_1)\n",
    "\n",
    "ridge_RootMean = np.sqrt(mean_squared_error(y_test_1, ridge_prediction))\n",
    "print('Root Mean Squared Error: ', round(ridge_RootMean, 3))\n"
   ]
  },
  {
   "cell_type": "markdown",
   "id": "f7bc32ad",
   "metadata": {},
   "source": [
    "### Q20"
   ]
  },
  {
   "cell_type": "code",
   "execution_count": 147,
   "id": "63e4dc82",
   "metadata": {},
   "outputs": [
    {
     "data": {
      "text/plain": [
       "3.633"
      ]
     },
     "execution_count": 147,
     "metadata": {},
     "output_type": "execute_result"
    }
   ],
   "source": [
    "\n",
    "from sklearn.linear_model import Lasso\n",
    "lasso = Lasso(alpha=0.001)\n",
    "lasso.fit(x_train,y_train)\n",
    "\n",
    "y_pred4 = lasso.predict(x_test)\n",
    "rmse = np.sqrt(mean_squared_error(y_test,y_pred4))\n",
    "round(rmse,3)\n",
    "\n"
   ]
  }
 ],
 "metadata": {
  "kernelspec": {
   "display_name": "Python 3.10.2 64-bit",
   "language": "python",
   "name": "python3"
  },
  "language_info": {
   "codemirror_mode": {
    "name": "ipython",
    "version": 3
   },
   "file_extension": ".py",
   "mimetype": "text/x-python",
   "name": "python",
   "nbconvert_exporter": "python",
   "pygments_lexer": "ipython3",
   "version": "3.10.2"
  },
  "vscode": {
   "interpreter": {
    "hash": "76d7c06053c3456e5600312cec90888656fc0ed30c03d8425b9dac6e4fc8e014"
   }
  }
 },
 "nbformat": 4,
 "nbformat_minor": 5
}
